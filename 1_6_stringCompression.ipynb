{
  "nbformat": 4,
  "nbformat_minor": 0,
  "metadata": {
    "colab": {
      "name": "1.6 stringCompression.ipynb",
      "provenance": [],
      "collapsed_sections": [],
      "authorship_tag": "ABX9TyNGRihf/4pu6DwkZoXZRCQL",
      "include_colab_link": true
    },
    "kernelspec": {
      "name": "python3",
      "display_name": "Python 3"
    }
  },
  "cells": [
    {
      "cell_type": "markdown",
      "metadata": {
        "id": "view-in-github",
        "colab_type": "text"
      },
      "source": [
        "<a href=\"https://colab.research.google.com/github/ifatima16/Code/blob/master/1_6_stringCompression.ipynb\" target=\"_parent\"><img src=\"https://colab.research.google.com/assets/colab-badge.svg\" alt=\"Open In Colab\"/></a>"
      ]
    },
    {
      "cell_type": "code",
      "metadata": {
        "id": "oVbAUq-1wgta",
        "colab_type": "code",
        "colab": {
          "base_uri": "https://localhost:8080/",
          "height": 52
        },
        "outputId": "44f83e85-8b84-4222-86c2-72dd334ab41a"
      },
      "source": [
        "# Implement a method to perform basic string compression using the counts of repeated characters. \n",
        "# For example, the string aabcccccaaa would become a2b1c5a3. \n",
        "# If the \"compressed\" string would not become smaller than the original string, your method should return\n",
        "# the original string. You can assume the string has only uppercase and lowercase letters (a - z).\n",
        "\n",
        "def compressString(str1):\n",
        "  prevLetter = str1[0]\n",
        "  count = 1\n",
        "  newString = list()\n",
        "  for x in range(1,len(str1), 1):\n",
        "    if str1[x] == prevLetter:\n",
        "      count = count + 1\n",
        "    else:\n",
        "      newString.append(str(prevLetter))\n",
        "      newString.append(str(count))\n",
        "      count = 1\n",
        "    prevLetter = str1[x]\n",
        "    \n",
        "    if x == len(str1) - 1:\n",
        "      newString.append(str(prevLetter))\n",
        "      newString.append(str(count))\n",
        "    \n",
        "  str2 = \"\".join(newString)\n",
        "\n",
        "  if len(str2) < len(str1):\n",
        "    return str2\n",
        "  else:\n",
        "    return str1\n",
        "\n",
        "print (compressString(\"aabcccccaaa\"))\n",
        "print (compressString(\"ab\"))"
      ],
      "execution_count": 12,
      "outputs": [
        {
          "output_type": "stream",
          "text": [
            "a2b1c5a3\n",
            "ab\n"
          ],
          "name": "stdout"
        }
      ]
    }
  ]
}