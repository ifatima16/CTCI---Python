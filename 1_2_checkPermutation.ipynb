{
  "nbformat": 4,
  "nbformat_minor": 0,
  "metadata": {
    "colab": {
      "name": "1.2 checkPermutation.ipynb",
      "provenance": [],
      "authorship_tag": "ABX9TyOe6DkkPyJS2gn8cvSumQSf",
      "include_colab_link": true
    },
    "kernelspec": {
      "name": "python3",
      "display_name": "Python 3"
    }
  },
  "cells": [
    {
      "cell_type": "markdown",
      "metadata": {
        "id": "view-in-github",
        "colab_type": "text"
      },
      "source": [
        "<a href=\"https://colab.research.google.com/github/ifatima16/Code/blob/master/1_2_checkPermutation.ipynb\" target=\"_parent\"><img src=\"https://colab.research.google.com/assets/colab-badge.svg\" alt=\"Open In Colab\"/></a>"
      ]
    },
    {
      "cell_type": "code",
      "metadata": {
        "id": "-UfL4sz9IPxJ",
        "colab_type": "code",
        "colab": {
          "base_uri": "https://localhost:8080/",
          "height": 34
        },
        "outputId": "937b866e-7589-4596-9b8a-7bd8a7e55a12"
      },
      "source": [
        "# Given two strings, write a method to decide if one is a permutation of the other.\n",
        "\n",
        "def isPermutation1(str1, str2):  # Do a character count; assumes 26 letters\n",
        "  if (len(str2) != len(str2)):\n",
        "    return false\n",
        "\n",
        "  myDict = {}\n",
        "  for letter in str1:\n",
        "    if (letter in myDict):\n",
        "      myDict[letter] = myDict[letter] + 1\n",
        "    else:\n",
        "      myDict[letter] = 1\n",
        "  \n",
        "  for letter in str2:\n",
        "    if (letter in myDict):\n",
        "      myDict[letter] = myDict[letter] - 1;\n",
        "      if myDict[letter] < 0:\n",
        "        return False\n",
        "    else:\n",
        "      return False\n",
        "\n",
        "  return True\n",
        "\n",
        "print(isPermutation1(\"hi\",\"ih\"))\n",
        "\n"
      ],
      "execution_count": 4,
      "outputs": [
        {
          "output_type": "stream",
          "text": [
            "True\n"
          ],
          "name": "stdout"
        }
      ]
    }
  ]
}