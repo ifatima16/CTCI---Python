{
  "nbformat": 4,
  "nbformat_minor": 0,
  "metadata": {
    "colab": {
      "name": "2.5 sumLists.ipynb",
      "provenance": [],
      "authorship_tag": "ABX9TyP0agoATNikzlkl7B0OKKwR",
      "include_colab_link": true
    },
    "kernelspec": {
      "name": "python3",
      "display_name": "Python 3"
    }
  },
  "cells": [
    {
      "cell_type": "markdown",
      "metadata": {
        "id": "view-in-github",
        "colab_type": "text"
      },
      "source": [
        "<a href=\"https://colab.research.google.com/github/ifatima16/CTCI---Python/blob/master/2_5_sumLists.ipynb\" target=\"_parent\"><img src=\"https://colab.research.google.com/assets/colab-badge.svg\" alt=\"Open In Colab\"/></a>"
      ]
    },
    {
      "cell_type": "code",
      "metadata": {
        "id": "qj5Xi84htMmx",
        "colab_type": "code",
        "colab": {
          "base_uri": "https://localhost:8080/",
          "height": 68
        },
        "outputId": "e2568172-cb60-4e4d-f68f-b54206c56c16"
      },
      "source": [
        "#Sum Lists: You have two numbers represented by a linked list, where each node contains a single\n",
        "#digit. The digits are stored in reverse order, such that the 1 's digit is at the head of the list. Write a\n",
        "#function that adds the two numbers and returns the sum as a linked list. \n",
        "\n",
        "class Node:\n",
        "  def __init__(self, data):\n",
        "    self.data = data\n",
        "    self.next = None\n",
        "\n",
        "class LinkedList:\n",
        "  def __init__(self):\n",
        "    self.head = None\n",
        "\n",
        "  def insert(self, data):\n",
        "    newNode = Node(data)\n",
        "    if self.head == None:\n",
        "      self.head = newNode\n",
        "    else:\n",
        "      curr = self.head\n",
        "      while (curr.next):\n",
        "        curr = curr.next\n",
        "      curr.next = newNode\n",
        "\n",
        "  def __str__(self): # This overrides print\n",
        "    curr = self.head\n",
        "    str1 = ''\n",
        "    while (curr != None):\n",
        "      str1 = str1 + str(curr.data) + \" -> \"\n",
        "      curr = curr.next\n",
        "    return str1\n",
        "\n",
        "  def sumList(self, list2):\n",
        "    list1 = self.head\n",
        "    list2 = list2.head\n",
        "\n",
        "    carry = 0\n",
        "    while (list1 != None and list2 != None):\n",
        "      if carry == 1:\n",
        "        sum = list1.data + list2.data + carry\n",
        "        carry = 0\n",
        "      else:\n",
        "        sum = list1.data + list2.data\n",
        "\n",
        "      if (sum > 9):\n",
        "        carry = 1\n",
        "        sum = sum - 10\n",
        "      \n",
        "      list1.data = sum\n",
        "      list1 = list1.next\n",
        "      list2 = list2.next  \n",
        "\n",
        "    if list1 == None and list2 == None and carry != 0:\n",
        "      self.insert(carry)\n",
        "\n",
        "    if list2 != None:\n",
        "      list1 = list2\n",
        "\n",
        "myList = LinkedList()\n",
        "myList.insert(9)\n",
        "myList.insert(7)\n",
        "myList.insert(9)\n",
        "\n",
        "myList2 = LinkedList()\n",
        "myList2.insert(8)\n",
        "myList2.insert(7)\n",
        "myList2.insert(5)\n",
        "\n",
        "print(myList)\n",
        "print(myList2)\n",
        "\n",
        "myList.sumList(myList2)\n",
        "\n",
        "print(myList)"
      ],
      "execution_count": 14,
      "outputs": [
        {
          "output_type": "stream",
          "text": [
            "9 -> 7 -> 9 -> \n",
            "8 -> 7 -> 5 -> \n",
            "7 -> 5 -> 5 -> 1 -> \n"
          ],
          "name": "stdout"
        }
      ]
    }
  ]
}