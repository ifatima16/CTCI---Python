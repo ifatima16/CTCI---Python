{
  "nbformat": 4,
  "nbformat_minor": 0,
  "metadata": {
    "colab": {
      "name": "1.3 urlify.ipynb",
      "provenance": [],
      "collapsed_sections": [],
      "authorship_tag": "ABX9TyPN0tEtq+U0eH2OPUB6lHQS",
      "include_colab_link": true
    },
    "kernelspec": {
      "name": "python3",
      "display_name": "Python 3"
    }
  },
  "cells": [
    {
      "cell_type": "markdown",
      "metadata": {
        "id": "view-in-github",
        "colab_type": "text"
      },
      "source": [
        "<a href=\"https://colab.research.google.com/github/ifatima16/Code/blob/master/1_3_urlify.ipynb\" target=\"_parent\"><img src=\"https://colab.research.google.com/assets/colab-badge.svg\" alt=\"Open In Colab\"/></a>"
      ]
    },
    {
      "cell_type": "code",
      "metadata": {
        "id": "ctp4_zvV7HfV",
        "colab_type": "code",
        "colab": {
          "base_uri": "https://localhost:8080/",
          "height": 34
        },
        "outputId": "af694ba3-c61c-44df-e7a0-40505da6f350"
      },
      "source": [
        "# URLify: Write a method to replace all spaces in a string with '%20: \n",
        "# You may assume that the string has sufficient space at the end to hold the additional characters\n",
        "# And that you are given the \"true\" length of the string. \n",
        "# (Note: If implementing in Java, please use a character array so that you can perform this operation in place.)\n",
        "\n",
        "def urlify(str, trueLength): \n",
        "\n",
        "  # Determine how many spaces there are\n",
        "  currIndex = 0\n",
        "  numSpaces = 0\n",
        "  for letter in str:\n",
        "    if (currIndex < trueLength):\n",
        "      if letter == ' ':\n",
        "        numSpaces = numSpaces + 1\n",
        "    else:\n",
        "      break\n",
        "    currIndex = currIndex + 1\n",
        "\n",
        "  # Create an array list\n",
        "  stringList = [0] * (trueLength + (2*numSpaces))\n",
        "\n",
        "  # Shifts letters\n",
        "  for x in range(trueLength - 1, -1, -1):\n",
        "    if str[x] == ' ':\n",
        "      stringList[x + (2 * (numSpaces - 1))] = '%'\n",
        "      stringList[x + 1 + (2 * (numSpaces - 1))] = '2'\n",
        "      stringList[x + 2 + (2 * (numSpaces - 1))] = '0'\n",
        "      numSpaces = numSpaces - 1\n",
        "    else:\n",
        "      stringList[x + (2 * numSpaces)] = str[x]\n",
        "  \n",
        "  return stringList\n",
        "\n",
        "\n",
        "print(urlify(\"Mr John Smith             \", 13))\n"
      ],
      "execution_count": 16,
      "outputs": [
        {
          "output_type": "stream",
          "text": [
            "['M', 'r', '%', '2', '0', 'J', 'o', 'h', 'n', '%', '2', '0', 'S', 'm', 'i', 't', 'h']\n"
          ],
          "name": "stdout"
        }
      ]
    }
  ]
}