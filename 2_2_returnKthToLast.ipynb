{
  "nbformat": 4,
  "nbformat_minor": 0,
  "metadata": {
    "colab": {
      "name": "2.2 returnKthToLast.ipynb",
      "provenance": [],
      "authorship_tag": "ABX9TyOpQfaQYUHw1K6t8ll6eyEd",
      "include_colab_link": true
    },
    "kernelspec": {
      "name": "python3",
      "display_name": "Python 3"
    }
  },
  "cells": [
    {
      "cell_type": "markdown",
      "metadata": {
        "id": "view-in-github",
        "colab_type": "text"
      },
      "source": [
        "<a href=\"https://colab.research.google.com/github/ifatima16/CTCI---Python/blob/master/2_2_returnKthToLast.ipynb\" target=\"_parent\"><img src=\"https://colab.research.google.com/assets/colab-badge.svg\" alt=\"Open In Colab\"/></a>"
      ]
    },
    {
      "cell_type": "code",
      "metadata": {
        "id": "aw1ZObENjwxq",
        "colab_type": "code",
        "colab": {
          "base_uri": "https://localhost:8080/",
          "height": 52
        },
        "outputId": "3f7f1920-8438-418d-a5b8-85faa4cdbcfc"
      },
      "source": [
        "# Remove Dups: Write code to remove duplicates from an unsorted linked list.\n",
        "# FOLLOW UP: How would you solve this problem if a temporary buffer is not allowed? \n",
        "  # Follow up requires a runner list that goes through all the other nodes > O(n^2)\n",
        "\n",
        "class Node:\n",
        "  def __init__(self, data=None, next=None):\n",
        "    self.data = data\n",
        "    self.next = next\n",
        "\n",
        "class LinkedList:\n",
        "  def __init__(self):\n",
        "    self.head = None\n",
        "\n",
        "  def insert(self, data):\n",
        "    newNode = Node(data)\n",
        "    if self.head == None:\n",
        "      self.head = newNode\n",
        "    else:\n",
        "      curr = self.head\n",
        "      while (curr.next):\n",
        "        curr = curr.next\n",
        "      curr.next = newNode\n",
        "\n",
        "  def __str__(self): # This overrides print\n",
        "    curr = self.head\n",
        "    str1 = ''\n",
        "    while (curr):\n",
        "      str1 = str1 + str(curr.data) + \" -> \"\n",
        "      curr = curr.next\n",
        "    return str1\n",
        "\n",
        "  def kthToLast(self, val):\n",
        "    \n",
        "    walker = self.head\n",
        "    runner = self.head\n",
        "    while (val > 0):\n",
        "      runner = runner.next\n",
        "      val = val - 1\n",
        "    \n",
        "    while (runner):\n",
        "      walker = walker.next\n",
        "      runner = runner.next\n",
        "\n",
        "    return walker\n",
        "\n",
        "\n",
        "\n",
        "\n",
        "myList = LinkedList()\n",
        "myList.insert(1)\n",
        "myList.insert(2)\n",
        "myList.insert(3)\n",
        "myList.insert(4)\n",
        "myList.insert(5)\n",
        "print(myList)\n",
        "\n",
        "print((myList.kthToLast(4)).data)\n",
        "\n"
      ],
      "execution_count": 5,
      "outputs": [
        {
          "output_type": "stream",
          "text": [
            "1 -> 2 -> 3 -> 4 -> 5 -> \n",
            "2\n"
          ],
          "name": "stdout"
        }
      ]
    }
  ]
}