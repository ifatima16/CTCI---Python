{
  "nbformat": 4,
  "nbformat_minor": 0,
  "metadata": {
    "colab": {
      "name": "2.8 loopDetection.ipynb",
      "provenance": [],
      "authorship_tag": "ABX9TyM7eMiTld8h7MkYhd8UPC/w",
      "include_colab_link": true
    },
    "kernelspec": {
      "name": "python3",
      "display_name": "Python 3"
    }
  },
  "cells": [
    {
      "cell_type": "markdown",
      "metadata": {
        "id": "view-in-github",
        "colab_type": "text"
      },
      "source": [
        "<a href=\"https://colab.research.google.com/github/ifatima16/CTCI---Python/blob/master/2_8_loopDetection.ipynb\" target=\"_parent\"><img src=\"https://colab.research.google.com/assets/colab-badge.svg\" alt=\"Open In Colab\"/></a>"
      ]
    },
    {
      "cell_type": "code",
      "metadata": {
        "id": "ZYuh7MtOYJkp",
        "colab_type": "code",
        "colab": {}
      },
      "source": [
        "# Given a circular linked list, implement an algorithm that returns the node at the beginning of the loop. \n",
        "\n",
        "class Node:\n",
        "  def __init__(self, data):\n",
        "    self.data = data\n",
        "    self.next = None\n",
        "\n",
        "class LinkedList:\n",
        "  def __init__(self):\n",
        "    self.head = None\n",
        "\n",
        "  def insert(self, data):\n",
        "    newNode = Node(data)\n",
        "    if self.head == None:\n",
        "      self.head = newNode\n",
        "    else:\n",
        "      curr = self.head\n",
        "      while (curr.next):\n",
        "        curr = curr.next\n",
        "      curr.next = newNode\n",
        "\n",
        "  def __str__(self): # This overrides print\n",
        "    curr = self.head\n",
        "    str1 = ''\n",
        "    while (curr != None):\n",
        "      str1 = str1 + str(curr.data) + \" -> \"\n",
        "      curr = curr.next\n",
        "    return str1\n",
        "\n",
        "  def loopDetection(self):\n",
        "    runner = self.head\n",
        "    walker = self.head\n",
        "\n",
        "    # Check to make sure that there is a cycle\n",
        "    while ((runner != None) or (runner.next != None) or (runner != walker)):\n",
        "      walker = walker.next\n",
        "      runner = runner.next.next\n",
        "    if (runner == None):\n",
        "      return False\n",
        "    \n",
        "    # Find the location of intersection\n",
        "    walker = self.head\n",
        "    while (runner != walker):\n",
        "      walker = walker.next\n",
        "      runner = runner.next\n",
        "    \n",
        "    return walker  # or runner\n",
        "\n",
        "\n",
        "\n",
        "myList = LinkedList()\n",
        "myList.insert('a')\n",
        "myList.insert('b')\n",
        "myList.insert('c')\n",
        "myList.insert('d')\n",
        "myList.insert('c')\n",
        "myList.insert('b')\n",
        "myList.insert('a')\n",
        "\n",
        "\n",
        "print(myList.isPalindrome())\n",
        "\n",
        "print(myList)"
      ],
      "execution_count": null,
      "outputs": []
    }
  ]
}