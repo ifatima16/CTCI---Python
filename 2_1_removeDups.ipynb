{
  "nbformat": 4,
  "nbformat_minor": 0,
  "metadata": {
    "colab": {
      "name": "2.1 removeDups",
      "provenance": [],
      "authorship_tag": "ABX9TyNuavf/DObHo/ZwefA/DUy4",
      "include_colab_link": true
    },
    "kernelspec": {
      "name": "python3",
      "display_name": "Python 3"
    }
  },
  "cells": [
    {
      "cell_type": "markdown",
      "metadata": {
        "id": "view-in-github",
        "colab_type": "text"
      },
      "source": [
        "<a href=\"https://colab.research.google.com/github/ifatima16/CTCI---Python/blob/master/2_1_removeDups.ipynb\" target=\"_parent\"><img src=\"https://colab.research.google.com/assets/colab-badge.svg\" alt=\"Open In Colab\"/></a>"
      ]
    },
    {
      "cell_type": "code",
      "metadata": {
        "id": "01cxnOiDu19i",
        "colab_type": "code",
        "colab": {
          "base_uri": "https://localhost:8080/",
          "height": 52
        },
        "outputId": "0fdf10af-0934-438d-8521-0cb88d332bdf"
      },
      "source": [
        "# Remove Dups: Write code to remove duplicates from an unsorted linked list.\n",
        "# FOLLOW UP: How would you solve this problem if a temporary buffer is not allowed? \n",
        "  # Follow up requires a runner list that goes through all the other nodes > O(n^2)\n",
        "\n",
        "class Node:\n",
        "  def __init__(self, data=None, next=None):\n",
        "    self.data = data\n",
        "    self.next = next\n",
        "\n",
        "class LinkedList:\n",
        "  def __init__(self):\n",
        "    self.head = None\n",
        "\n",
        "  def insert(self, data):\n",
        "    newNode = Node(data)\n",
        "    if self.head == None:\n",
        "      self.head = newNode\n",
        "    else:\n",
        "      curr = self.head\n",
        "      while (curr.next):\n",
        "        curr = curr.next\n",
        "      curr.next = newNode\n",
        "\n",
        "  def __str__(self): # This overrides print\n",
        "    curr = self.head\n",
        "    str1 = ''\n",
        "    while (curr):\n",
        "      str1 = str1 + str(curr.data) + \" -> \"\n",
        "      curr = curr.next\n",
        "    return str1\n",
        "\n",
        "  def removeDups(self):\n",
        "    mySet = set()\n",
        "    prev = self.head\n",
        "    mySet.add(prev.data)\n",
        "    curr = prev.next\n",
        "\n",
        "    while (curr.next):\n",
        "      if (curr.data in mySet):\n",
        "        prev.next = curr.next\n",
        "        curr = curr.next\n",
        "      else:\n",
        "        mySet.add(curr.data)\n",
        "        prev = curr\n",
        "        curr = curr.next\n",
        "      \n",
        "    if curr.data in mySet:\n",
        "      prev.next = None\n",
        "\n",
        "\n",
        "\n",
        "\n",
        "myList = LinkedList()\n",
        "myList.insert(1)\n",
        "myList.insert(1)\n",
        "myList.insert(1)\n",
        "myList.insert(1)\n",
        "myList.insert(1)\n",
        "print(myList)\n",
        "\n",
        "myList.removeDups()\n",
        "print(myList)\n",
        "\n"
      ],
      "execution_count": 13,
      "outputs": [
        {
          "output_type": "stream",
          "text": [
            "1 -> 1 -> 1 -> 1 -> 1 -> \n",
            "1 -> \n"
          ],
          "name": "stdout"
        }
      ]
    }
  ]
}