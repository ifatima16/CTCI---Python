{
  "nbformat": 4,
  "nbformat_minor": 0,
  "metadata": {
    "colab": {
      "name": "3.2 stackMin.ipynb",
      "provenance": [],
      "collapsed_sections": [],
      "authorship_tag": "ABX9TyP0XzpghTMxlJ0zYKalybvf",
      "include_colab_link": true
    },
    "kernelspec": {
      "name": "python3",
      "display_name": "Python 3"
    }
  },
  "cells": [
    {
      "cell_type": "markdown",
      "metadata": {
        "id": "view-in-github",
        "colab_type": "text"
      },
      "source": [
        "<a href=\"https://colab.research.google.com/github/ifatima16/CTCI---Python/blob/master/3_2_stackMin.ipynb\" target=\"_parent\"><img src=\"https://colab.research.google.com/assets/colab-badge.svg\" alt=\"Open In Colab\"/></a>"
      ]
    },
    {
      "cell_type": "code",
      "metadata": {
        "id": "waPy5NmITD2f",
        "colab_type": "code",
        "colab": {}
      },
      "source": [
        "# How would you design a stack which, in addition to push and pop, has a function min which returns the minimum element? \n",
        "# Push, pop and min should all operate in 0(1) time. \n",
        "\n",
        "# Create the stack using a list or linked list, and keep track of the minimum as you go along in an array, where you append the array for each push action with the current minimum at that time.\n"
      ],
      "execution_count": null,
      "outputs": []
    }
  ]
}