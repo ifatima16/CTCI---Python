{
  "nbformat": 4,
  "nbformat_minor": 0,
  "metadata": {
    "colab": {
      "name": "3.4 queueViaStacks.ipynb",
      "provenance": [],
      "collapsed_sections": [],
      "authorship_tag": "ABX9TyOaoQuD6H9GUiwiklA+RdHa",
      "include_colab_link": true
    },
    "kernelspec": {
      "name": "python3",
      "display_name": "Python 3"
    }
  },
  "cells": [
    {
      "cell_type": "markdown",
      "metadata": {
        "id": "view-in-github",
        "colab_type": "text"
      },
      "source": [
        "<a href=\"https://colab.research.google.com/github/ifatima16/CTCI---Python/blob/master/3_4_queueViaStacks.ipynb\" target=\"_parent\"><img src=\"https://colab.research.google.com/assets/colab-badge.svg\" alt=\"Open In Colab\"/></a>"
      ]
    },
    {
      "cell_type": "code",
      "metadata": {
        "id": "PsqjTv2n2TO6",
        "colab_type": "code",
        "colab": {}
      },
      "source": [
        "# Implement a MyQueue class which implements a queue using two stacks.\n",
        "\n",
        "class MyQueue:\n",
        "  def __init__(self):\n",
        "    self.stack1 = []  # Primary list\n",
        "    self.stack2 = []  # Secondary list\n",
        "\n",
        "  def push(self, data):  # Push into back of list\n",
        "    stack1.append(data)\n",
        "\n",
        "  def pop(self):  # Pop from front of list\n",
        "    if (not stack2):  # if it's empty, do this \n",
        "      while (stack1):\n",
        "        stack2.append(stack1[-1])\n",
        "        stack1.pop()\n",
        "\n",
        "    return stack2.pop()\n",
        "\n",
        "\n"
      ],
      "execution_count": null,
      "outputs": []
    }
  ]
}