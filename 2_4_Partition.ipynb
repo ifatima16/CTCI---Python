{
  "nbformat": 4,
  "nbformat_minor": 0,
  "metadata": {
    "colab": {
      "name": "2.4 Partition.ipynb",
      "provenance": [],
      "authorship_tag": "ABX9TyPUp3aYMrb9makTg8sM37GM",
      "include_colab_link": true
    },
    "kernelspec": {
      "name": "python3",
      "display_name": "Python 3"
    }
  },
  "cells": [
    {
      "cell_type": "markdown",
      "metadata": {
        "id": "view-in-github",
        "colab_type": "text"
      },
      "source": [
        "<a href=\"https://colab.research.google.com/github/ifatima16/CTCI---Python/blob/master/2_4_Partition.ipynb\" target=\"_parent\"><img src=\"https://colab.research.google.com/assets/colab-badge.svg\" alt=\"Open In Colab\"/></a>"
      ]
    },
    {
      "cell_type": "code",
      "metadata": {
        "id": "gsLGdI4bcpUZ",
        "colab_type": "code",
        "colab": {
          "base_uri": "https://localhost:8080/",
          "height": 51
        },
        "outputId": "d0bd1788-df81-4b8c-ea5c-ce88e533ca2e"
      },
      "source": [
        "# Write code to partition a linked list around a value x, such that all nodes less than x come\n",
        "# before all nodes greater than or equal to x. lf x is contained within the list, the values of x only need\n",
        "# to be after the elements less than x (see below). The partition element x can appear anywhere in the\n",
        "# \"right partition\"; it does not need to appear between the left and right partitions. \n",
        "\n",
        "class Node:\n",
        "  def __init__(self, data):\n",
        "    self.data = data\n",
        "    self.next = None\n",
        "\n",
        "class LinkedList:\n",
        "  def __init__(self):\n",
        "    self.head = None\n",
        "\n",
        "  def insert(self, data):\n",
        "    newNode = Node(data)\n",
        "    if self.head == None:\n",
        "      self.head = newNode\n",
        "    else:\n",
        "      curr = self.head\n",
        "      while (curr.next):\n",
        "        curr = curr.next\n",
        "      curr.next = newNode\n",
        "\n",
        "  def __str__(self): # This overrides print\n",
        "    curr = self.head\n",
        "    str1 = ''\n",
        "    while (curr != None):\n",
        "      str1 = str1 + str(curr.data) + \" -> \"\n",
        "      curr = curr.next\n",
        "    return str1\n",
        "\n",
        "  def partition(self, partitionVal):\n",
        "    startOfLessThan = None\n",
        "    tailOfLessThan = None\n",
        "    headOfGreaterThan = None\n",
        "    tailOfGreaterThan = None\n",
        "\n",
        "    curr = self.head\n",
        "    while (curr != None):\n",
        "      if (curr.data < partitionVal):\n",
        "        if (tailOfLessThan == None):\n",
        "          tailOfLessThan = curr\n",
        "          startOfLessThan = curr\n",
        "        else:\n",
        "          tailOfLessThan.next = curr\n",
        "          tailOfLessThan = tailOfLessThan.next\n",
        "        curr = curr.next\n",
        "        tailOfLessThan.next = None\n",
        "      else:\n",
        "        if (tailOfGreaterThan == None):\n",
        "          tailOfGreaterThan = curr\n",
        "          headOfGreaterThan = curr\n",
        "        else:\n",
        "          tailOfGreaterThan.next = curr\n",
        "          tailOfGreaterThan = tailOfGreaterThan.next\n",
        "        curr = curr.next\n",
        "        tailOfGreaterThan.next = None\n",
        "  \n",
        "\n",
        "    tailOfLessThan.next = headOfGreaterThan\n",
        "\n",
        "    self.head = startOfLessThan\n",
        "\n",
        "\n",
        "myList = LinkedList()\n",
        "myList.insert(1)\n",
        "myList.insert(7)\n",
        "myList.insert(5)\n",
        "myList.insert(2)\n",
        "myList.insert(4)\n",
        "myList.insert(1)\n",
        "myList.insert(0)\n",
        "myList.insert(9)\n",
        "\n",
        "\n",
        "print(myList)\n",
        "\n",
        "myList.partition(4)\n",
        "\n",
        "print(myList)"
      ],
      "execution_count": 18,
      "outputs": [
        {
          "output_type": "stream",
          "text": [
            "1 -> 7 -> 5 -> 2 -> 4 -> 1 -> 0 -> 9 -> \n",
            "1 -> 2 -> 1 -> 0 -> 7 -> 5 -> 4 -> 9 -> \n"
          ],
          "name": "stdout"
        }
      ]
    },
    {
      "cell_type": "code",
      "metadata": {
        "id": "9JapaXMdnT8x",
        "colab_type": "code",
        "colab": {}
      },
      "source": [
        ""
      ],
      "execution_count": null,
      "outputs": []
    }
  ]
}