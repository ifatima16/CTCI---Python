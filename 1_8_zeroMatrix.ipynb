{
  "nbformat": 4,
  "nbformat_minor": 0,
  "metadata": {
    "colab": {
      "name": "1.8 zeroMatrix.ipynb",
      "provenance": [],
      "authorship_tag": "ABX9TyPluqn+oBMF0MKrVvO6lwDB",
      "include_colab_link": true
    },
    "kernelspec": {
      "name": "python3",
      "display_name": "Python 3"
    }
  },
  "cells": [
    {
      "cell_type": "markdown",
      "metadata": {
        "id": "view-in-github",
        "colab_type": "text"
      },
      "source": [
        "<a href=\"https://colab.research.google.com/github/ifatima16/Code/blob/master/1_8_zeroMatrix.ipynb\" target=\"_parent\"><img src=\"https://colab.research.google.com/assets/colab-badge.svg\" alt=\"Open In Colab\"/></a>"
      ]
    },
    {
      "cell_type": "code",
      "metadata": {
        "id": "e4Wx4gDkisxR",
        "colab_type": "code",
        "colab": {
          "base_uri": "https://localhost:8080/",
          "height": 34
        },
        "outputId": "b7f39544-8fe0-4172-f924-ba8e4557e5ea"
      },
      "source": [
        "# Zero Matrix: Write an algorithm such that if an element in an MxN matrix is 0, \n",
        "# its entire row and column are set to O. \n",
        "\n",
        "def zeroMatrix(myMatrix):\n",
        "  rowArr = [0] * len(myMatrix)\n",
        "  colArr = [0] * len(myMatrix[0])\n",
        "\n",
        "  # Determine which rows and columns have 0s\n",
        "  for i in range(len(myMatrix)):\n",
        "    for j in range(len(myMatrix[0])):\n",
        "      if myMatrix[i][j] == 0:\n",
        "        rowArr[i] = 1;\n",
        "        colArr[j] = 1;\n",
        "  \n",
        "  # Replace them to 0s\n",
        "  for i in range(len(myMatrix)):\n",
        "    for j in range(len(myMatrix[0])): \n",
        "      if (rowArr[i] == 1  or colArr[j] == 1):\n",
        "        myMatrix[i][j] = 0\n",
        "  \n",
        "  return myMatrix\n",
        "\n",
        "\n",
        "\n",
        "\n",
        "arr = []\n",
        "M = 4\n",
        "N = 3\n",
        "for i in range(M):\n",
        "  arr.append([0]*N)\n",
        "\n",
        "count = 0\n",
        "for i in range(M):\n",
        "  for j in range(N):\n",
        "    arr[i][j] = count\n",
        "    count = count + 1\n",
        "\n",
        "arr = zeroMatrix(arr)\n",
        "\n",
        "print(arr)"
      ],
      "execution_count": 9,
      "outputs": [
        {
          "output_type": "stream",
          "text": [
            "[[0, 0, 0], [0, 4, 5], [0, 7, 8], [0, 10, 11]]\n"
          ],
          "name": "stdout"
        }
      ]
    }
  ]
}