{
  "nbformat": 4,
  "nbformat_minor": 0,
  "metadata": {
    "colab": {
      "name": "1.1 isUnique.ipynb",
      "provenance": [],
      "collapsed_sections": [],
      "authorship_tag": "ABX9TyMPeGUHqC2QO8qIGN5T/7Iq",
      "include_colab_link": true
    },
    "kernelspec": {
      "name": "python3",
      "display_name": "Python 3"
    }
  },
  "cells": [
    {
      "cell_type": "markdown",
      "metadata": {
        "id": "view-in-github",
        "colab_type": "text"
      },
      "source": [
        "<a href=\"https://colab.research.google.com/github/ifatima16/Code/blob/master/1_1_isUnique.ipynb\" target=\"_parent\"><img src=\"https://colab.research.google.com/assets/colab-badge.svg\" alt=\"Open In Colab\"/></a>"
      ]
    },
    {
      "cell_type": "code",
      "metadata": {
        "id": "j84OZ5lP9Hvo",
        "colab_type": "code",
        "colab": {
          "base_uri": "https://localhost:8080/",
          "height": 70
        },
        "outputId": "1d0c89ea-5900-44ee-b38e-0e1fb4f4ce43"
      },
      "source": [
        "# Is Unique: Implement an algorithm to determine if a string has all unique characters. \n",
        "# What if you cannot use additional data structures?\n",
        "\n",
        "def isUnique1(myStr):  # Assume lowercase alphabet only\n",
        "  arr = [0] * 26\n",
        "  for char in myStr:\n",
        "    if (arr[ord(char) - ord('a')] > 0):\n",
        "      return False\n",
        "    else:\n",
        "      arr[ord(char) - ord('a')] = 1\n",
        "  return True\n",
        "\n",
        "def isUnique2(myStr):  # Assume any char\n",
        "  mySet = set()\n",
        "  for char in myStr:\n",
        "    if (char in mySet):\n",
        "      return False\n",
        "    else:\n",
        "      mySet.add(char)\n",
        "  return True\n",
        "\n",
        "def isUnique3(myStr):  # An integer has 32-bits, so for 26 alphabet we can just use an int\n",
        "  myInt = 0\n",
        "  for char in myStr:\n",
        "    if ((myInt & (1 << (ord(char) - ord('a')))) != 0):\n",
        "      return False\n",
        "    else:\n",
        "      myInt = myInt | (1 << (ord(char) - ord('a')))\n",
        "  return True\n",
        "\n",
        "print(isUnique1(\"hia\"))\n",
        "print(isUnique2(\"hiai\"))\n",
        "print(isUnique3(\"hia\"))\n",
        "\n"
      ],
      "execution_count": 23,
      "outputs": [
        {
          "output_type": "stream",
          "text": [
            "True\n",
            "False\n",
            "True\n"
          ],
          "name": "stdout"
        }
      ]
    }
  ]
}