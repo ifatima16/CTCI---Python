{
  "nbformat": 4,
  "nbformat_minor": 0,
  "metadata": {
    "colab": {
      "name": "1.4 palindromePermutation.ipynb",
      "provenance": [],
      "collapsed_sections": [],
      "authorship_tag": "ABX9TyNdB4/NFzhKjVC3oaQtdzyh",
      "include_colab_link": true
    },
    "kernelspec": {
      "name": "python3",
      "display_name": "Python 3"
    }
  },
  "cells": [
    {
      "cell_type": "markdown",
      "metadata": {
        "id": "view-in-github",
        "colab_type": "text"
      },
      "source": [
        "<a href=\"https://colab.research.google.com/github/ifatima16/Code/blob/master/1_4_palindromePermutation.ipynb\" target=\"_parent\"><img src=\"https://colab.research.google.com/assets/colab-badge.svg\" alt=\"Open In Colab\"/></a>"
      ]
    },
    {
      "cell_type": "code",
      "metadata": {
        "id": "V6VsSSgFB1IZ",
        "colab_type": "code",
        "colab": {
          "base_uri": "https://localhost:8080/",
          "height": 247
        },
        "outputId": "4113dd61-49bf-48b9-ab3b-2b8b22e2e73c"
      },
      "source": [
        "# Given a string, write a function to check if it is a permutation of a palindrome.\n",
        "# A palindrome is a word or phrase that is the same forwards and backwards. \n",
        "# A permutation is a rearrangement of letters. The palindrome does not need to be limited to just dictionary words.\n",
        "\n",
        "def palindromePermutation(str):\n",
        "  countWords = {}\n",
        "  for letter in str:\n",
        "    if letter in countWords:\n",
        "      countWords[letter] = countWords[letter] + 1\n",
        "    else:\n",
        "      if not letter.isspace():\n",
        "        countWords[letter] = 1\n",
        "  \n",
        "  oneFalse = False\n",
        "  for key in countWords:\n",
        "    if (countWords[key] % 2) != 0:\n",
        "      if oneFalse == True:\n",
        "        return False\n",
        "      else:\n",
        "        oneFalse = True\n",
        "  \n",
        "  return True\n",
        "\n",
        "print(palindromePermutation(\"tact co\"))\n"
      ],
      "execution_count": 21,
      "outputs": [
        {
          "output_type": "stream",
          "text": [
            "letter: t\n",
            "letter: a\n",
            "letter: c\n",
            "letter: t\n",
            "letter in: t\n",
            "letter:  \n",
            "letter: c\n",
            "letter in: c\n",
            "letter: o\n",
            "key: a\n",
            "key: o\n",
            "key: o\n",
            "False\n"
          ],
          "name": "stdout"
        }
      ]
    }
  ]
}