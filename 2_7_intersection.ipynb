{
  "nbformat": 4,
  "nbformat_minor": 0,
  "metadata": {
    "colab": {
      "name": "2.7 intersection.ipynb",
      "provenance": [],
      "authorship_tag": "ABX9TyOa32SKy6jsccy6CPQXBamX",
      "include_colab_link": true
    },
    "kernelspec": {
      "name": "python3",
      "display_name": "Python 3"
    }
  },
  "cells": [
    {
      "cell_type": "markdown",
      "metadata": {
        "id": "view-in-github",
        "colab_type": "text"
      },
      "source": [
        "<a href=\"https://colab.research.google.com/github/ifatima16/CTCI---Python/blob/master/2_7_intersection.ipynb\" target=\"_parent\"><img src=\"https://colab.research.google.com/assets/colab-badge.svg\" alt=\"Open In Colab\"/></a>"
      ]
    },
    {
      "cell_type": "code",
      "metadata": {
        "id": "0sdiWOx5C3Wa",
        "colab_type": "code",
        "colab": {}
      },
      "source": [
        "# Given two (singly) linked lists, determine if the two lists intersect. \n",
        "# Return the intersecting node. Note that the intersection is defined based on reference, not value. \n",
        "# That is, if the kth node of the first linked list is the exact\n",
        "\n",
        "class Node:\n",
        "  def __init__(self, data):\n",
        "    self.data = data\n",
        "    self.next = None\n",
        "\n",
        "class LinkedList:\n",
        "  def __init__(self):\n",
        "    self.head = None\n",
        "\n",
        "  def insert(self, data):\n",
        "    newNode = Node(data)\n",
        "    if self.head == None:\n",
        "      self.head = newNode\n",
        "    else:\n",
        "      curr = self.head\n",
        "      while (curr.next):\n",
        "        curr = curr.next\n",
        "      curr.next = newNode\n",
        "\n",
        "  def __str__(self): # This overrides print\n",
        "    curr = self.head\n",
        "    str1 = ''\n",
        "    while (curr != None):\n",
        "      str1 = str1 + str(curr.data) + \" -> \"\n",
        "      curr = curr.next\n",
        "    return str1\n",
        "\n",
        "  def intersection(self, list2Head):\n",
        "    list1 = self.head\n",
        "    list2 = list2Head\n",
        "\n",
        "    # First determine if they intersect; determine size of both\n",
        "    len1 = 0\n",
        "    len2 = 0\n",
        "    while (list1.next != None):\n",
        "      len1 = len1 + 1\n",
        "      list1 = list1.next\n",
        "    while (list2.next != None):\n",
        "      len2 = len2 + 1\n",
        "      list2 = list2.next\n",
        "    if (list1 != list2):\n",
        "      return False\n",
        "    \n",
        "    # Determine point of intersection\n",
        "    list1 = self.head\n",
        "    list2 = list2Head\n",
        "    if (len1 < len2):\n",
        "      while (len1 != len2):\n",
        "        len1 = len1 + 1\n",
        "        list1 = list1.next\n",
        "    else if (len1 > len2):\n",
        "      while (len1 != len2):\n",
        "        len2 = len2 + 1\n",
        "        list2 = list2.next\n",
        "    while (list1 != list2):\n",
        "      list1 = list1.next\n",
        "      list2 = list2.next\n",
        "    \n",
        "    return list1\n",
        "\n",
        "\n",
        "myList = LinkedList()\n",
        "myList.insert('a')\n",
        "myList.insert('b')\n",
        "myList.insert('c')\n",
        "myList.insert('d')\n",
        "myList.insert('c')\n",
        "myList.insert('b')\n",
        "myList.insert('a')\n",
        "\n",
        "\n",
        "print(myList.isPalindrome())\n",
        "\n",
        "print(myList)"
      ],
      "execution_count": null,
      "outputs": []
    }
  ]
}