{
  "nbformat": 4,
  "nbformat_minor": 0,
  "metadata": {
    "colab": {
      "name": "1.9 stringRotation.ipynb",
      "provenance": [],
      "authorship_tag": "ABX9TyPn/gOhROrDRIk0uA/KfN9e",
      "include_colab_link": true
    },
    "kernelspec": {
      "name": "python3",
      "display_name": "Python 3"
    }
  },
  "cells": [
    {
      "cell_type": "markdown",
      "metadata": {
        "id": "view-in-github",
        "colab_type": "text"
      },
      "source": [
        "<a href=\"https://colab.research.google.com/github/ifatima16/Code/blob/master/1_9_stringRotation.ipynb\" target=\"_parent\"><img src=\"https://colab.research.google.com/assets/colab-badge.svg\" alt=\"Open In Colab\"/></a>"
      ]
    },
    {
      "cell_type": "code",
      "metadata": {
        "id": "ah4rPloOteP9",
        "colab_type": "code",
        "colab": {
          "base_uri": "https://localhost:8080/",
          "height": 34
        },
        "outputId": "0ea22a49-ebda-4d9d-d80a-eef267a62375"
      },
      "source": [
        "# String Rotation: Assume you have a method isSubst ring which checks if one word is a substring\n",
        "# of another. Given two strings, 51 and 52, write code to check if 52 is a rotation of 51 using only one\n",
        "# call to isSubstring (e.g., \"waterbottle\" is a rotation of\"erbottlewat\"). \n",
        "\n",
        "def isSubt(s1, s2):\n",
        "  s2 = s2 + s2\n",
        "  if (s1 in s2):\n",
        "    return True\n",
        "  else:\n",
        "    return False\n",
        "\n",
        "print(isSubt(\"waterbottle\", \"erbottlewat\"))"
      ],
      "execution_count": 5,
      "outputs": [
        {
          "output_type": "stream",
          "text": [
            "False\n"
          ],
          "name": "stdout"
        }
      ]
    }
  ]
}