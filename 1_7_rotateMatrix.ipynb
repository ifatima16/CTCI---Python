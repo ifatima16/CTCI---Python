{
  "nbformat": 4,
  "nbformat_minor": 0,
  "metadata": {
    "colab": {
      "name": "1.7 rotateMatrix.ipynb",
      "provenance": [],
      "authorship_tag": "ABX9TyORJKcGE2xdpLWHQ5uPS4eR",
      "include_colab_link": true
    },
    "kernelspec": {
      "name": "python3",
      "display_name": "Python 3"
    }
  },
  "cells": [
    {
      "cell_type": "markdown",
      "metadata": {
        "id": "view-in-github",
        "colab_type": "text"
      },
      "source": [
        "<a href=\"https://colab.research.google.com/github/ifatima16/Code/blob/master/1_7_rotateMatrix.ipynb\" target=\"_parent\"><img src=\"https://colab.research.google.com/assets/colab-badge.svg\" alt=\"Open In Colab\"/></a>"
      ]
    },
    {
      "cell_type": "code",
      "metadata": {
        "id": "pkCKWPx_0F_5",
        "colab_type": "code",
        "colab": {
          "base_uri": "https://localhost:8080/",
          "height": 230
        },
        "outputId": "462e6cef-c43b-4ccf-c07e-d4fa734f85d1"
      },
      "source": [
        "# Given an image represented by an NxN matrix, where each pixel in the image is 4 bytes, \n",
        "# write a method to rotate the image by 90 degrees. Can you do this in place?\n",
        "\n",
        "def rotateMatrix(myMatrix, N):\n",
        "  # Assume there's only a 2X2 table\n",
        "\n",
        "  myMatrix = myMatrix[::-1] # Reverse matrix; this makes the bottom row become the top and viceversa\n",
        "\n",
        "  print(\"Reversed:\")\n",
        "  print(myMatrix[0])\n",
        "  print(myMatrix[1])\n",
        "  print(myMatrix[2])\n",
        "\n",
        "  # Transpose the matrix - make the rows columns\n",
        "  for i in range(N):\n",
        "    for j in range(i):\n",
        "      myMatrix[i][j], myMatrix[j][i] = myMatrix[j][i], myMatrix[i][j]\n",
        "\n",
        "\n",
        "  return myMatrix\n",
        "\n",
        "\n",
        "rows = 3\n",
        "cols = 3\n",
        "arr = []\n",
        "for i in range(rows):\n",
        "    arr.append([0] * cols)\n",
        "\n",
        "print(\"Input:\")\n",
        "arr[0][0] = 1\n",
        "arr[0][1] = 2\n",
        "arr[0][2] = 3\n",
        "arr[1][0] = 4\n",
        "arr[1][1] = 5\n",
        "arr[1][2] = 6\n",
        "arr[2][0] = 7\n",
        "arr[2][1] = 8\n",
        "arr[2][2] = 9\n",
        "print(arr[0])\n",
        "print(arr[1])\n",
        "print(arr[2])\n",
        "\n",
        "\n",
        "newArr = rotateMatrix(arr,rows)\n",
        "print(\"Res:\")\n",
        "print(newArr[0])\n",
        "print(newArr[1])\n",
        "print(newArr[2])\n",
        "\n"
      ],
      "execution_count": 16,
      "outputs": [
        {
          "output_type": "stream",
          "text": [
            "Input:\n",
            "[1, 2, 3]\n",
            "[4, 5, 6]\n",
            "[7, 8, 9]\n",
            "Reversed:\n",
            "[7, 8, 9]\n",
            "[4, 5, 6]\n",
            "[1, 2, 3]\n",
            "Res:\n",
            "[7, 4, 1]\n",
            "[8, 5, 2]\n",
            "[9, 6, 3]\n"
          ],
          "name": "stdout"
        }
      ]
    }
  ]
}