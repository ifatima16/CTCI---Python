{
  "nbformat": 4,
  "nbformat_minor": 0,
  "metadata": {
    "colab": {
      "name": "2.6 isPalindrome.ipynb",
      "provenance": [],
      "authorship_tag": "ABX9TyNMF3HGU3qKuLxMBKidKkxX",
      "include_colab_link": true
    },
    "kernelspec": {
      "name": "python3",
      "display_name": "Python 3"
    }
  },
  "cells": [
    {
      "cell_type": "markdown",
      "metadata": {
        "id": "view-in-github",
        "colab_type": "text"
      },
      "source": [
        "<a href=\"https://colab.research.google.com/github/ifatima16/CTCI---Python/blob/master/2_6_isPalindrome.ipynb\" target=\"_parent\"><img src=\"https://colab.research.google.com/assets/colab-badge.svg\" alt=\"Open In Colab\"/></a>"
      ]
    },
    {
      "cell_type": "code",
      "metadata": {
        "id": "qj5Xi84htMmx",
        "colab_type": "code",
        "colab": {
          "base_uri": "https://localhost:8080/",
          "height": 102
        },
        "outputId": "ad67b2ec-808d-45d8-b2d3-e45f616e9921"
      },
      "source": [
        "# Implement a function to check if a linked list is a palindrome. \n",
        "\n",
        "class Node:\n",
        "  def __init__(self, data):\n",
        "    self.data = data\n",
        "    self.next = None\n",
        "\n",
        "class LinkedList:\n",
        "  def __init__(self):\n",
        "    self.head = None\n",
        "\n",
        "  def insert(self, data):\n",
        "    newNode = Node(data)\n",
        "    if self.head == None:\n",
        "      self.head = newNode\n",
        "    else:\n",
        "      curr = self.head\n",
        "      while (curr.next):\n",
        "        curr = curr.next\n",
        "      curr.next = newNode\n",
        "\n",
        "  def __str__(self): # This overrides print\n",
        "    curr = self.head\n",
        "    str1 = ''\n",
        "    while (curr != None):\n",
        "      str1 = str1 + str(curr.data) + \" -> \"\n",
        "      curr = curr.next\n",
        "    return str1\n",
        "\n",
        "  def isPalindrome(self):\n",
        "    # First approach: Reverse the linked list and if it the same as itself, it's okay \n",
        "    # Second approach: Check size of linked list, then put first half elements into stack\n",
        "    walker = self.head\n",
        "    runner = self.head\n",
        "\n",
        "    len = 0\n",
        "    while (walker != None):\n",
        "      len = len + 1\n",
        "      walker = walker.next\n",
        "\n",
        "    walker = self.head\n",
        "    stack = []\n",
        "    while (runner != None and runner.next != None):\n",
        "        stack.append(walker.data)\n",
        "        print(stack)\n",
        "        walker = walker.next\n",
        "        runner = runner.next.next    \n",
        "\n",
        "    if len % 2 != 0:\n",
        "      walker = walker.next\n",
        "\n",
        "    len = int(len / 2)\n",
        "    while (walker != None):\n",
        "      if stack[len - 1] != walker.data:\n",
        "        return False\n",
        "      else:\n",
        "        walker = walker.next\n",
        "        len = len - 1\n",
        "\n",
        "    return True\n",
        "\n",
        "myList = LinkedList()\n",
        "myList.insert('a')\n",
        "myList.insert('b')\n",
        "myList.insert('c')\n",
        "myList.insert('d')\n",
        "myList.insert('c')\n",
        "myList.insert('b')\n",
        "myList.insert('a')\n",
        "\n",
        "\n",
        "print(myList.isPalindrome())\n",
        "\n",
        "print(myList)"
      ],
      "execution_count": 22,
      "outputs": [
        {
          "output_type": "stream",
          "text": [
            "['a']\n",
            "['a', 'b']\n",
            "['a', 'b', 'c']\n",
            "True\n",
            "a -> b -> c -> d -> c -> b -> a -> \n"
          ],
          "name": "stdout"
        }
      ]
    }
  ]
}