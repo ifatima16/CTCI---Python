{
  "nbformat": 4,
  "nbformat_minor": 0,
  "metadata": {
    "colab": {
      "name": "3.6 animalShelter.ipynb",
      "provenance": [],
      "authorship_tag": "ABX9TyO1LIQlnrAPuaY3e3eowx5Y",
      "include_colab_link": true
    },
    "kernelspec": {
      "name": "python3",
      "display_name": "Python 3"
    }
  },
  "cells": [
    {
      "cell_type": "markdown",
      "metadata": {
        "id": "view-in-github",
        "colab_type": "text"
      },
      "source": [
        "<a href=\"https://colab.research.google.com/github/ifatima16/CTCI---Python/blob/master/3_6_animalShelter.ipynb\" target=\"_parent\"><img src=\"https://colab.research.google.com/assets/colab-badge.svg\" alt=\"Open In Colab\"/></a>"
      ]
    },
    {
      "cell_type": "code",
      "metadata": {
        "id": "TzI1zgMlcEL0",
        "colab_type": "code",
        "colab": {}
      },
      "source": [
        "# Can also just create a separate list for dogs and cats and have a timestamp\n",
        "class Node:\n",
        "  def __init__(self,type=None, next):\n",
        "    self.animalType = animalType\n",
        "    self.next = next\n",
        "\n",
        "class AnimalShelter:\n",
        "  def __init__(self):\n",
        "    self.head = None\n",
        "    self.headCat = None\n",
        "    self.headDog = None\n",
        "\n",
        "  def enqueue(self, type):\n",
        "    curr = self.head\n",
        "    while (curr):\n",
        "      curr = curr.next\n",
        "    curr = Node(type)\n",
        "\n",
        "  def dequeueAny(self):\n",
        "    curr = self.head.next\n",
        "    while (curr.animalType != self.head.animalType):\n",
        "          curr = curr.next\n",
        "    if self.head.animalType == 'Cat':\n",
        "      headCat = curr\n",
        "    else if self.head.animalType == 'Dog':\n",
        "      headDog = curr\n",
        "    self.head = self.head.next\n",
        "\n",
        "  def dequeueDog(self):\n",
        "    curr = self.head\n",
        "    while (curr.animalType != 'Dog'):\n",
        "      prev = curr\n",
        "      curr = curr.next\n",
        "    prev.next = curr.next\n",
        "\n",
        "    while (curr.animalType != 'Dog'):\n",
        "      curr = curr.next\n",
        "    \n",
        "    headDog = curr\n",
        "\n",
        "\n",
        "  def dequeueCat(self):\n",
        "    curr = self.head\n",
        "    while (curr.animalType != 'Cat'):\n",
        "      prev = curr\n",
        "      curr = curr.next\n",
        "    prev.next = curr.next\n",
        "\n",
        "    while (curr.animalType != 'Cat'):\n",
        "      curr = curr.next\n",
        "    \n",
        "    headDog = curr"
      ],
      "execution_count": null,
      "outputs": []
    }
  ]
}