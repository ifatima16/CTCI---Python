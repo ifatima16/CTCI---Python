{
  "nbformat": 4,
  "nbformat_minor": 0,
  "metadata": {
    "colab": {
      "name": "3.3 stackOfPlates.ipynb",
      "provenance": [],
      "collapsed_sections": [],
      "authorship_tag": "ABX9TyOVrDKI2jatKblLaURY799a",
      "include_colab_link": true
    },
    "kernelspec": {
      "name": "python3",
      "display_name": "Python 3"
    }
  },
  "cells": [
    {
      "cell_type": "markdown",
      "metadata": {
        "id": "view-in-github",
        "colab_type": "text"
      },
      "source": [
        "<a href=\"https://colab.research.google.com/github/ifatima16/CTCI---Python/blob/master/3_3_stackOfPlates.ipynb\" target=\"_parent\"><img src=\"https://colab.research.google.com/assets/colab-badge.svg\" alt=\"Open In Colab\"/></a>"
      ]
    },
    {
      "cell_type": "code",
      "metadata": {
        "id": "6Vvot4xPWajH",
        "colab_type": "code",
        "colab": {}
      },
      "source": [
        "# Imagine a (literal) stack of plates. If the stack gets too high, it might topple.\n",
        "# Therefore, in real life, we would likely start a new stack when the previous stack exceeds some threshold. \n",
        "# Implement a data structure SetOfStacks that mimics this. \n",
        "# SetOfStacks should be composed of several stacks and should create a new stack once the previous one exceeds capacity.\n",
        "# SetOfStacks. push () and SetOfStacks. pop () should behave identically to a single stack\n",
        "# (that is, pop ( ) should return the same values as it would if there were just a single stack).\n",
        "# FOLLOW UP\n",
        "# Implement a function popAt (int index) which performs a pop operation on a specific sub-stack. \n",
        "\n",
        "class setOfStacks:\n",
        "  def __init__(self, capacity):\n",
        "    self.currItems = 0\n",
        "    self.listoflists = []\n",
        "    sublist = [] \n",
        "    for j in range(0,self.capacity):\n",
        "        sublist.append(0)\n",
        "    self.listoflists.append(sublist)\n",
        "\n",
        "    self.currList = 0\n",
        "    self.capacity = capacity\n",
        "\n",
        "  def push(self, data):\n",
        "    if (self.currItems < self.capacity):\n",
        "      self.currItems = self.currItems + 1\n",
        "      self.list[currList][currItems - 1] = data\n",
        "    else:\n",
        "      self.currItems = 1\n",
        "      sublist = []\n",
        "      for j in range(0,self.capacity):\n",
        "        sublist.append(0)\n",
        "      self.listoflists.append(sublist)\n",
        "      self.list[currList][currItems - 1] = data\n",
        "      self.currList = self.currList + 1\n",
        "\n",
        "  def pop(self):\n",
        "    del list[currList][currItems - 1]\n",
        "    if (self.currItems == 1):\n",
        "      self.currList = self.currList - 1\n",
        "      currItems = self.capacity\n",
        "\n",
        "  def popAt(self):\n",
        "    # have to pop from one of the specific stacks, then readjust all\n",
        "\n",
        "\n"
      ],
      "execution_count": null,
      "outputs": []
    }
  ]
}