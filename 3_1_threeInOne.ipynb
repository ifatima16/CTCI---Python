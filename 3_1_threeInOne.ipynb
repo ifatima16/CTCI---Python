{
  "nbformat": 4,
  "nbformat_minor": 0,
  "metadata": {
    "colab": {
      "name": "3.1 threeInOne.ipynb",
      "provenance": [],
      "collapsed_sections": [],
      "authorship_tag": "ABX9TyPV91Wz6Hg1Yov+TV83Anlz",
      "include_colab_link": true
    },
    "kernelspec": {
      "name": "python3",
      "display_name": "Python 3"
    }
  },
  "cells": [
    {
      "cell_type": "markdown",
      "metadata": {
        "id": "view-in-github",
        "colab_type": "text"
      },
      "source": [
        "<a href=\"https://colab.research.google.com/github/ifatima16/CTCI---Python/blob/master/3_1_threeInOne.ipynb\" target=\"_parent\"><img src=\"https://colab.research.google.com/assets/colab-badge.svg\" alt=\"Open In Colab\"/></a>"
      ]
    },
    {
      "cell_type": "code",
      "metadata": {
        "id": "kabKuhPMSoVV",
        "colab_type": "code",
        "colab": {}
      },
      "source": [
        "# Three in One: Describe how you could use a single array to implement three stacks. \n",
        "\n",
        "# We can portion the array into 3 sections, where each section belong to one stack \n",
        "# If more space is needed then shift over the sections. "
      ],
      "execution_count": null,
      "outputs": []
    }
  ]
}