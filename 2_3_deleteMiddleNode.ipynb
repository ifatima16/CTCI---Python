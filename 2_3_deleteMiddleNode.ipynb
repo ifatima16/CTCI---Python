{
  "nbformat": 4,
  "nbformat_minor": 0,
  "metadata": {
    "colab": {
      "name": "2.3 deleteMiddleNode.ipynb",
      "provenance": [],
      "authorship_tag": "ABX9TyMeQSpvSduzoCWFuJVI23Mh",
      "include_colab_link": true
    },
    "kernelspec": {
      "name": "python3",
      "display_name": "Python 3"
    }
  },
  "cells": [
    {
      "cell_type": "markdown",
      "metadata": {
        "id": "view-in-github",
        "colab_type": "text"
      },
      "source": [
        "<a href=\"https://colab.research.google.com/github/ifatima16/CTCI---Python/blob/master/2_3_deleteMiddleNode.ipynb\" target=\"_parent\"><img src=\"https://colab.research.google.com/assets/colab-badge.svg\" alt=\"Open In Colab\"/></a>"
      ]
    },
    {
      "cell_type": "code",
      "metadata": {
        "id": "0znt7wAkP97V",
        "colab_type": "code",
        "colab": {
          "base_uri": "https://localhost:8080/",
          "height": 52
        },
        "outputId": "5fe43181-f0f2-4534-bfe6-774e11c66848"
      },
      "source": [
        " # Implement an algorithm to delete a node in the middle (i.e., any node but the first and last)\n",
        "\n",
        "class Node:\n",
        "  def __init__(self, data):\n",
        "    self.data = data\n",
        "    self.next = None\n",
        "\n",
        "class LinkedList:\n",
        "  def __init__(self):\n",
        "    self.head = None\n",
        "\n",
        "  def insert(self, data):\n",
        "    newNode = Node(data)\n",
        "    if self.head == None:\n",
        "      self.head = newNode\n",
        "    else:\n",
        "      curr = self.head\n",
        "      while (curr.next):\n",
        "        curr = curr.next\n",
        "      curr.next = newNode\n",
        "\n",
        "  def __str__(self): # This overrides print\n",
        "    curr = self.head\n",
        "    str1 = ''\n",
        "    while (curr):\n",
        "      str1 = str1 + str(curr.data) + \" -> \"\n",
        "      curr = curr.next\n",
        "    return str1\n",
        "\n",
        "  def deleteMiddleNode(self, nodeNum):\n",
        "    if (nodeNum == 1):\n",
        "      self.head = self.head.next\n",
        "      return\n",
        "\n",
        "    curr = self.head\n",
        "    \n",
        "    while (nodeNum - 1 > 0):\n",
        "      prev = curr\n",
        "      curr = curr.next\n",
        "      nodeNum = nodeNum - 1\n",
        "\n",
        "    prev.next = curr.next\n",
        "\n",
        "def deleteMiddleNode(Node delNode):\n",
        "    if delNode == None:\n",
        "      return\n",
        "\n",
        "    delNode.data = delNode.next.data\n",
        "    delNode.next = delNode.next.next\n",
        "\n",
        "myList = LinkedList()\n",
        "myList.insert(1)\n",
        "myList.insert(2)\n",
        "myList.insert(3)\n",
        "myList.insert(4)\n",
        "myList.insert(5)\n",
        "print(myList)\n",
        "myList.deleteMiddleNode(1)\n",
        "print(myList)"
      ],
      "execution_count": 8,
      "outputs": [
        {
          "output_type": "stream",
          "text": [
            "1 -> 2 -> 3 -> 4 -> 5 -> \n",
            "2 -> 3 -> 4 -> 5 -> \n"
          ],
          "name": "stdout"
        }
      ]
    }
  ]
}