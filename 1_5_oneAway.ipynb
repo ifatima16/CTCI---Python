{
  "nbformat": 4,
  "nbformat_minor": 0,
  "metadata": {
    "colab": {
      "name": "1.5 oneAway.ipynb",
      "provenance": [],
      "authorship_tag": "ABX9TyNKhl7jO4EbCELIpkw81GXw",
      "include_colab_link": true
    },
    "kernelspec": {
      "name": "python3",
      "display_name": "Python 3"
    }
  },
  "cells": [
    {
      "cell_type": "markdown",
      "metadata": {
        "id": "view-in-github",
        "colab_type": "text"
      },
      "source": [
        "<a href=\"https://colab.research.google.com/github/ifatima16/Code/blob/master/1_5_oneAway.ipynb\" target=\"_parent\"><img src=\"https://colab.research.google.com/assets/colab-badge.svg\" alt=\"Open In Colab\"/></a>"
      ]
    },
    {
      "cell_type": "code",
      "metadata": {
        "id": "Bd-h0WRxPXVO",
        "colab_type": "code",
        "colab": {
          "base_uri": "https://localhost:8080/",
          "height": 87
        },
        "outputId": "520c6d3f-f8b8-4ef4-821a-106d2bb5b38a"
      },
      "source": [
        "# There are three types of edits that can be performed on strings: insert a character, remove a character, or replace a character. \n",
        "# Given two strings, write a function to check if they are one edit (or zero edits) away.\n",
        "\n",
        "def oneAway(str1, str2):\n",
        "\n",
        "  # Insert a character\n",
        "  if (len(str1) > len(str2)):\n",
        "    largerString = str1\n",
        "    smallerString = str2\n",
        "  else:\n",
        "    largerString = str2\n",
        "    smallerString = str1\n",
        "\n",
        "  foundDiff = False\n",
        "  count = 0\n",
        "  for x in range (len(smallerString)):\n",
        "    if (smallerString[x] != largerString[count]):\n",
        "      if foundDiff == False:\n",
        "        foundDiff = True\n",
        "        if (len(str1) != len(str2)):\n",
        "          count = count + 1\n",
        "      else:\n",
        "        return False\n",
        "    count = count + 1\n",
        "  return True\n",
        "\n",
        "print(oneAway(\"pale\",\"ple\"))\n",
        "print(oneAway(\"pales\",\"pale\"))\n",
        "print(oneAway(\"pale\",\"bale\"))\n",
        "print(oneAway(\"pale\",\"bake\"))\n"
      ],
      "execution_count": 6,
      "outputs": [
        {
          "output_type": "stream",
          "text": [
            "True\n",
            "True\n",
            "True\n",
            "False\n"
          ],
          "name": "stdout"
        }
      ]
    }
  ]
}