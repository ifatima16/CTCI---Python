{
  "nbformat": 4,
  "nbformat_minor": 0,
  "metadata": {
    "colab": {
      "name": "3.5 sortStack.ipynb",
      "provenance": [],
      "authorship_tag": "ABX9TyMOOk4n3553bm+3uCm6RdnO",
      "include_colab_link": true
    },
    "kernelspec": {
      "name": "python3",
      "display_name": "Python 3"
    }
  },
  "cells": [
    {
      "cell_type": "markdown",
      "metadata": {
        "id": "view-in-github",
        "colab_type": "text"
      },
      "source": [
        "<a href=\"https://colab.research.google.com/github/ifatima16/CTCI---Python/blob/master/3_5_sortStack.ipynb\" target=\"_parent\"><img src=\"https://colab.research.google.com/assets/colab-badge.svg\" alt=\"Open In Colab\"/></a>"
      ]
    },
    {
      "cell_type": "code",
      "metadata": {
        "id": "LV5DjVMeWPJr",
        "colab_type": "code",
        "colab": {}
      },
      "source": [
        "def sortStack(myS):\n",
        "  tempStack = []\n",
        "\n",
        "  while (myS):\n",
        "    if (not tempStack):\n",
        "      tempStack.push(myS.top())\n",
        "    else:\n",
        "      if (tempStack.top() > myS.top()):\n",
        "        curr = myS.top()\n",
        "        myS.pop()\n",
        "        while ((tempStack.top() > curr) or tempStack):\n",
        "          myS.push(tempStack.top())\n",
        "          tempStack.pop()\n",
        "        tempStack.push(curr)\n",
        "      else:\n",
        "        tempStack.push(myS.top())\n",
        "        myS.pop()\n",
        "  \n",
        "  while (tempStack):\n",
        "    myS.push(tempStack)\n",
        "    tempStack.pop()\n",
        "\n"
      ],
      "execution_count": null,
      "outputs": []
    }
  ]
}